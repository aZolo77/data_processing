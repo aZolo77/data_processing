{
 "cells": [
  {
   "cell_type": "markdown",
   "id": "738eb5f4",
   "metadata": {},
   "source": [
    "### Задание 1"
   ]
  },
  {
   "cell_type": "markdown",
   "id": "74e195d9",
   "metadata": {},
   "source": [
    "1.1 Импортируйте библиотеки *pandas* и *numpy*.\n",
    "\n",
    "1.2 Загрузите __\"Boston House Prices dataset\"__ из встроенных наборов данных библиотеки *sklearn*. Создайте датафреймы X и y из этих данных.\n",
    "\n",
    "1.3 Разбейте эти датафреймы на тренировочные *(X_train, y_train)* и тестовые *(X_test, y_test)* с помощью функции *train_test_split* так, чтобы размер тестовой выборки составлял 30% от всех данных, при этом аргумент *random_state* должен быть равен 42.\n",
    "\n",
    "1.4 Создайте модель линейной регрессии под названием lr с помощью класса *LinearRegression* из модуля *sklearn.linear_model*.\n",
    "\n",
    "1.5 Обучите модель на тренировочных данных (используйте все признаки) и сделайте предсказание на тестовых.\n",
    "\n",
    "1.6 Вычислите *R2* полученных предказаний с помощью *r2_score* из модуля *sklearn.metrics*."
   ]
  },
  {
   "cell_type": "code",
   "execution_count": 1,
   "id": "15ef32bf",
   "metadata": {},
   "outputs": [],
   "source": [
    "# 1.1\n",
    "import numpy as np\n",
    "import pandas as pd\n",
    "\n",
    "from sklearn.datasets import load_boston\n",
    "from sklearn.model_selection import train_test_split\n",
    "from sklearn.linear_model import LinearRegression\n",
    "from sklearn.metrics import r2_score\n",
    "\n",
    "import warnings\n",
    "warnings.filterwarnings('ignore')"
   ]
  },
  {
   "cell_type": "code",
   "execution_count": 2,
   "id": "d7490945",
   "metadata": {},
   "outputs": [
    {
     "data": {
      "text/plain": [
       "dict_keys(['data', 'target', 'feature_names', 'DESCR', 'filename', 'data_module'])"
      ]
     },
     "execution_count": 2,
     "metadata": {},
     "output_type": "execute_result"
    }
   ],
   "source": [
    "# 1.2\n",
    "boston = load_boston()\n",
    "boston.keys()"
   ]
  },
  {
   "cell_type": "code",
   "execution_count": 3,
   "id": "2a457f38",
   "metadata": {},
   "outputs": [],
   "source": [
    "X = pd.DataFrame(boston.data, columns=boston.feature_names)\n",
    "y = pd.DataFrame(boston.target, columns=['price'])"
   ]
  },
  {
   "cell_type": "code",
   "execution_count": 4,
   "id": "46fd5c54",
   "metadata": {},
   "outputs": [
    {
     "name": "stdout",
     "output_type": "stream",
     "text": [
      "70%\n"
     ]
    }
   ],
   "source": [
    "# 1.3\n",
    "X_train, X_test, y_train, y_test = train_test_split(X, y, test_size=0.3, random_state=42)\n",
    "print(f'{round(X_train.size / X.size * 100)}%')"
   ]
  },
  {
   "cell_type": "code",
   "execution_count": 5,
   "id": "e9ff852a",
   "metadata": {},
   "outputs": [],
   "source": [
    "# 1.4\n",
    "lr = LinearRegression()"
   ]
  },
  {
   "cell_type": "code",
   "execution_count": 6,
   "id": "39469ca4",
   "metadata": {},
   "outputs": [
    {
     "data": {
      "text/plain": [
       "array([28.64896005, 36.49501384, 15.4111932 , 25.40321303, 18.85527988])"
      ]
     },
     "execution_count": 6,
     "metadata": {},
     "output_type": "execute_result"
    }
   ],
   "source": [
    "# 1.5\n",
    "lr.fit(X_train, y_train)\n",
    "y_pred = lr.predict(X_test)\n",
    "y_pred.flatten()[:5]"
   ]
  },
  {
   "cell_type": "code",
   "execution_count": 7,
   "id": "ca0a819e",
   "metadata": {},
   "outputs": [
    {
     "data": {
      "text/plain": [
       "0.711226005748496"
      ]
     },
     "execution_count": 7,
     "metadata": {},
     "output_type": "execute_result"
    }
   ],
   "source": [
    "# 1.6\n",
    "lr_r2 = r2_score(y_test, y_pred)\n",
    "lr_r2"
   ]
  },
  {
   "cell_type": "markdown",
   "id": "094a8cdd",
   "metadata": {},
   "source": [
    "### Задание 2"
   ]
  },
  {
   "cell_type": "markdown",
   "id": "da87535e",
   "metadata": {},
   "source": [
    "2.1 Создайте модель под названием model с помощью *RandomForestRegressor* из модуля *sklearn.ensemble*. Сделайте агрумент *n_estimators* равным 1000, *max_depth* должен быть равен 12 и *random_state* сделайте равным 42.\n",
    "\n",
    "2.2 Обучите модель на тренировочных данных аналогично тому, как вы обучали модель *LinearRegression*, но при этом в метод fit вместо датафрейма y_train поставьте *y_train.values\\[:, 0\\]*, чтобы получить из датафрейма одномерный массив Numpy, так как для класса RandomForestRegressor в данном методе для аргумента y предпочтительно применение массивов вместо датафрейма.\n",
    "\n",
    "2.3 Сделайте предсказание на тестовых данных и посчитайте *R2*. Сравните с результатом из предыдущего задания.\n",
    "\n",
    "2.4 Напишите в комментариях к коду, какая модель в данном случае работает лучше."
   ]
  },
  {
   "cell_type": "code",
   "execution_count": 8,
   "id": "f1ec14bc",
   "metadata": {},
   "outputs": [],
   "source": [
    "# 2.1\n",
    "from sklearn.ensemble import RandomForestRegressor"
   ]
  },
  {
   "cell_type": "code",
   "execution_count": 9,
   "id": "867650cf",
   "metadata": {},
   "outputs": [],
   "source": [
    "rf_model = RandomForestRegressor(n_estimators=1000, max_depth=12, random_state=42)"
   ]
  },
  {
   "cell_type": "code",
   "execution_count": 10,
   "id": "404f6c1d",
   "metadata": {},
   "outputs": [
    {
     "data": {
      "text/plain": [
       "RandomForestRegressor(max_depth=12, n_estimators=1000, random_state=42)"
      ]
     },
     "execution_count": 10,
     "metadata": {},
     "output_type": "execute_result"
    }
   ],
   "source": [
    "# 2.2\n",
    "rf_model.fit(X_train, y_train.values[:, 0])"
   ]
  },
  {
   "cell_type": "code",
   "execution_count": 11,
   "id": "50da3d69",
   "metadata": {},
   "outputs": [
    {
     "data": {
      "text/plain": [
       "0.87472606157312"
      ]
     },
     "execution_count": 11,
     "metadata": {},
     "output_type": "execute_result"
    }
   ],
   "source": [
    "# 2.3\n",
    "y_pred = rf_model.predict(X_test)\n",
    "rf_r2 = r2_score(y_test, y_pred)\n",
    "rf_r2"
   ]
  },
  {
   "cell_type": "code",
   "execution_count": 12,
   "id": "f860d16a",
   "metadata": {},
   "outputs": [
    {
     "name": "stdout",
     "output_type": "stream",
     "text": [
      "Модель RandomForestRegressor приблизительно на 23% лучше справляется с задачей\n"
     ]
    }
   ],
   "source": [
    "# 2.4 В данном случае модель RandomForestRegressor работает лучше\n",
    "print('Модель RandomForestRegressor приблизительно на {}% лучше справляется с задачей'.format(round(rf_r2 / lr_r2 * 100 - 100)))"
   ]
  },
  {
   "cell_type": "markdown",
   "id": "420eb598",
   "metadata": {},
   "source": [
    "### *Задание 3"
   ]
  },
  {
   "cell_type": "markdown",
   "id": "448bf36c",
   "metadata": {},
   "source": [
    "3.1 Вызовите документацию для класса *RandomForestRegressor*, найдите информацию об атрибуте *feature_importances_*.\n",
    "\n",
    "3.2 С помощью этого атрибута найдите сумму всех показателей важности\n",
    "\n",
    "3.3 Установите, какие два признака показывают наибольшую важность."
   ]
  },
  {
   "cell_type": "code",
   "execution_count": 13,
   "id": "8ba7aabf",
   "metadata": {},
   "outputs": [],
   "source": [
    "# 3.1\n",
    "?RandomForestRegressor.feature_importances_"
   ]
  },
  {
   "cell_type": "code",
   "execution_count": 14,
   "id": "bc3a04b7",
   "metadata": {},
   "outputs": [
    {
     "data": {
      "text/plain": [
       "1.0"
      ]
     },
     "execution_count": 14,
     "metadata": {},
     "output_type": "execute_result"
    }
   ],
   "source": [
    "# 3.2\n",
    "rf_model.feature_importances_.sum()"
   ]
  },
  {
   "cell_type": "code",
   "execution_count": 16,
   "id": "5fad4a26",
   "metadata": {},
   "outputs": [
    {
     "data": {
      "text/plain": [
       "RM       0.402682\n",
       "LSTAT    0.415847\n",
       "dtype: float64"
      ]
     },
     "execution_count": 16,
     "metadata": {},
     "output_type": "execute_result"
    }
   ],
   "source": [
    "# 3.3\n",
    "coefs = rf_model.feature_importances_\n",
    "min_val = np.sort(coefs)[-2]\n",
    "rf_importances = pd.Series(coefs, index=boston.feature_names)\n",
    "rf_importances[rf_importances >= min_val]"
   ]
  }
 ],
 "metadata": {
  "kernelspec": {
   "display_name": "Python 3 (ipykernel)",
   "language": "python",
   "name": "python3"
  },
  "language_info": {
   "codemirror_mode": {
    "name": "ipython",
    "version": 3
   },
   "file_extension": ".py",
   "mimetype": "text/x-python",
   "name": "python",
   "nbconvert_exporter": "python",
   "pygments_lexer": "ipython3",
   "version": "3.8.12"
  }
 },
 "nbformat": 4,
 "nbformat_minor": 5
}
